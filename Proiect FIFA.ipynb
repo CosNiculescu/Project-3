{
 "cells": [
  {
   "cell_type": "code",
   "execution_count": 1,
   "id": "9af98f45",
   "metadata": {},
   "outputs": [],
   "source": [
    "import pandas as pd\n",
    "import numpy as np\n",
    "import matplotlib.pyplot as plt\n",
    "import sklearn\n",
    "from sklearn import preprocessing as per\n",
    "from sklearn.decomposition import PCA\n",
    "from sklearn.cluster import KMeans"
   ]
  },
  {
   "cell_type": "code",
   "execution_count": 2,
   "id": "183800c3",
   "metadata": {},
   "outputs": [
    {
     "ename": "FileNotFoundError",
     "evalue": "[Errno 2] No such file or directory: 'FIFA.xlsx'",
     "output_type": "error",
     "traceback": [
      "\u001b[1;31m---------------------------------------------------------------------------\u001b[0m",
      "\u001b[1;31mFileNotFoundError\u001b[0m                         Traceback (most recent call last)",
      "\u001b[1;32m~\\AppData\\Local\\Temp/ipykernel_15448/2795629608.py\u001b[0m in \u001b[0;36m<module>\u001b[1;34m\u001b[0m\n\u001b[0;32m      1\u001b[0m \u001b[1;31m# Creare dataframe\u001b[0m\u001b[1;33m\u001b[0m\u001b[1;33m\u001b[0m\u001b[0m\n\u001b[1;32m----> 2\u001b[1;33m \u001b[0mtabel\u001b[0m \u001b[1;33m=\u001b[0m \u001b[0mpd\u001b[0m\u001b[1;33m.\u001b[0m\u001b[0mread_excel\u001b[0m\u001b[1;33m(\u001b[0m\u001b[1;34m'FIFA.xlsx'\u001b[0m\u001b[1;33m,\u001b[0m \u001b[0mindex_col\u001b[0m\u001b[1;33m=\u001b[0m\u001b[1;32mNone\u001b[0m\u001b[1;33m,\u001b[0m \u001b[0mna_values\u001b[0m\u001b[1;33m=\u001b[0m\u001b[1;33m[\u001b[0m\u001b[1;34m'NA'\u001b[0m\u001b[1;33m]\u001b[0m\u001b[1;33m)\u001b[0m\u001b[1;33m\u001b[0m\u001b[1;33m\u001b[0m\u001b[0m\n\u001b[0m\u001b[0;32m      3\u001b[0m \u001b[0mprint\u001b[0m\u001b[1;33m(\u001b[0m\u001b[0mtabel\u001b[0m\u001b[1;33m)\u001b[0m\u001b[1;33m\u001b[0m\u001b[1;33m\u001b[0m\u001b[0m\n\u001b[0;32m      4\u001b[0m \u001b[0mtabel\u001b[0m\u001b[1;33m.\u001b[0m\u001b[0mcolumns\u001b[0m \u001b[1;33m=\u001b[0m \u001b[1;33m[\u001b[0m\u001b[0mcol\u001b[0m\u001b[1;33m.\u001b[0m\u001b[0mstrip\u001b[0m\u001b[1;33m(\u001b[0m\u001b[1;33m)\u001b[0m \u001b[1;32mfor\u001b[0m \u001b[0mcol\u001b[0m \u001b[1;32min\u001b[0m \u001b[0mtabel\u001b[0m\u001b[1;33m.\u001b[0m\u001b[0mcolumns\u001b[0m\u001b[1;33m]\u001b[0m\u001b[1;33m\u001b[0m\u001b[1;33m\u001b[0m\u001b[0m\n\u001b[0;32m      5\u001b[0m \u001b[0mprint\u001b[0m\u001b[1;33m(\u001b[0m\u001b[0mtabel\u001b[0m\u001b[1;33m[\u001b[0m\u001b[0mtabel\u001b[0m\u001b[1;33m[\u001b[0m\u001b[1;34m'Nationality'\u001b[0m\u001b[1;33m]\u001b[0m\u001b[1;33m==\u001b[0m \u001b[1;34m'Romania'\u001b[0m\u001b[1;33m]\u001b[0m\u001b[1;33m)\u001b[0m\u001b[1;33m\u001b[0m\u001b[1;33m\u001b[0m\u001b[0m\n",
      "\u001b[1;32m~\\anaconda3\\lib\\site-packages\\pandas\\util\\_decorators.py\u001b[0m in \u001b[0;36mwrapper\u001b[1;34m(*args, **kwargs)\u001b[0m\n\u001b[0;32m    309\u001b[0m                     \u001b[0mstacklevel\u001b[0m\u001b[1;33m=\u001b[0m\u001b[0mstacklevel\u001b[0m\u001b[1;33m,\u001b[0m\u001b[1;33m\u001b[0m\u001b[1;33m\u001b[0m\u001b[0m\n\u001b[0;32m    310\u001b[0m                 )\n\u001b[1;32m--> 311\u001b[1;33m             \u001b[1;32mreturn\u001b[0m \u001b[0mfunc\u001b[0m\u001b[1;33m(\u001b[0m\u001b[1;33m*\u001b[0m\u001b[0margs\u001b[0m\u001b[1;33m,\u001b[0m \u001b[1;33m**\u001b[0m\u001b[0mkwargs\u001b[0m\u001b[1;33m)\u001b[0m\u001b[1;33m\u001b[0m\u001b[1;33m\u001b[0m\u001b[0m\n\u001b[0m\u001b[0;32m    312\u001b[0m \u001b[1;33m\u001b[0m\u001b[0m\n\u001b[0;32m    313\u001b[0m         \u001b[1;32mreturn\u001b[0m \u001b[0mwrapper\u001b[0m\u001b[1;33m\u001b[0m\u001b[1;33m\u001b[0m\u001b[0m\n",
      "\u001b[1;32m~\\anaconda3\\lib\\site-packages\\pandas\\io\\excel\\_base.py\u001b[0m in \u001b[0;36mread_excel\u001b[1;34m(io, sheet_name, header, names, index_col, usecols, squeeze, dtype, engine, converters, true_values, false_values, skiprows, nrows, na_values, keep_default_na, na_filter, verbose, parse_dates, date_parser, thousands, comment, skipfooter, convert_float, mangle_dupe_cols, storage_options)\u001b[0m\n\u001b[0;32m    362\u001b[0m     \u001b[1;32mif\u001b[0m \u001b[1;32mnot\u001b[0m \u001b[0misinstance\u001b[0m\u001b[1;33m(\u001b[0m\u001b[0mio\u001b[0m\u001b[1;33m,\u001b[0m \u001b[0mExcelFile\u001b[0m\u001b[1;33m)\u001b[0m\u001b[1;33m:\u001b[0m\u001b[1;33m\u001b[0m\u001b[1;33m\u001b[0m\u001b[0m\n\u001b[0;32m    363\u001b[0m         \u001b[0mshould_close\u001b[0m \u001b[1;33m=\u001b[0m \u001b[1;32mTrue\u001b[0m\u001b[1;33m\u001b[0m\u001b[1;33m\u001b[0m\u001b[0m\n\u001b[1;32m--> 364\u001b[1;33m         \u001b[0mio\u001b[0m \u001b[1;33m=\u001b[0m \u001b[0mExcelFile\u001b[0m\u001b[1;33m(\u001b[0m\u001b[0mio\u001b[0m\u001b[1;33m,\u001b[0m \u001b[0mstorage_options\u001b[0m\u001b[1;33m=\u001b[0m\u001b[0mstorage_options\u001b[0m\u001b[1;33m,\u001b[0m \u001b[0mengine\u001b[0m\u001b[1;33m=\u001b[0m\u001b[0mengine\u001b[0m\u001b[1;33m)\u001b[0m\u001b[1;33m\u001b[0m\u001b[1;33m\u001b[0m\u001b[0m\n\u001b[0m\u001b[0;32m    365\u001b[0m     \u001b[1;32melif\u001b[0m \u001b[0mengine\u001b[0m \u001b[1;32mand\u001b[0m \u001b[0mengine\u001b[0m \u001b[1;33m!=\u001b[0m \u001b[0mio\u001b[0m\u001b[1;33m.\u001b[0m\u001b[0mengine\u001b[0m\u001b[1;33m:\u001b[0m\u001b[1;33m\u001b[0m\u001b[1;33m\u001b[0m\u001b[0m\n\u001b[0;32m    366\u001b[0m         raise ValueError(\n",
      "\u001b[1;32m~\\anaconda3\\lib\\site-packages\\pandas\\io\\excel\\_base.py\u001b[0m in \u001b[0;36m__init__\u001b[1;34m(self, path_or_buffer, engine, storage_options)\u001b[0m\n\u001b[0;32m   1189\u001b[0m                 \u001b[0mext\u001b[0m \u001b[1;33m=\u001b[0m \u001b[1;34m\"xls\"\u001b[0m\u001b[1;33m\u001b[0m\u001b[1;33m\u001b[0m\u001b[0m\n\u001b[0;32m   1190\u001b[0m             \u001b[1;32melse\u001b[0m\u001b[1;33m:\u001b[0m\u001b[1;33m\u001b[0m\u001b[1;33m\u001b[0m\u001b[0m\n\u001b[1;32m-> 1191\u001b[1;33m                 ext = inspect_excel_format(\n\u001b[0m\u001b[0;32m   1192\u001b[0m                     \u001b[0mcontent_or_path\u001b[0m\u001b[1;33m=\u001b[0m\u001b[0mpath_or_buffer\u001b[0m\u001b[1;33m,\u001b[0m \u001b[0mstorage_options\u001b[0m\u001b[1;33m=\u001b[0m\u001b[0mstorage_options\u001b[0m\u001b[1;33m\u001b[0m\u001b[1;33m\u001b[0m\u001b[0m\n\u001b[0;32m   1193\u001b[0m                 )\n",
      "\u001b[1;32m~\\anaconda3\\lib\\site-packages\\pandas\\io\\excel\\_base.py\u001b[0m in \u001b[0;36minspect_excel_format\u001b[1;34m(content_or_path, storage_options)\u001b[0m\n\u001b[0;32m   1068\u001b[0m         \u001b[0mcontent_or_path\u001b[0m \u001b[1;33m=\u001b[0m \u001b[0mBytesIO\u001b[0m\u001b[1;33m(\u001b[0m\u001b[0mcontent_or_path\u001b[0m\u001b[1;33m)\u001b[0m\u001b[1;33m\u001b[0m\u001b[1;33m\u001b[0m\u001b[0m\n\u001b[0;32m   1069\u001b[0m \u001b[1;33m\u001b[0m\u001b[0m\n\u001b[1;32m-> 1070\u001b[1;33m     with get_handle(\n\u001b[0m\u001b[0;32m   1071\u001b[0m         \u001b[0mcontent_or_path\u001b[0m\u001b[1;33m,\u001b[0m \u001b[1;34m\"rb\"\u001b[0m\u001b[1;33m,\u001b[0m \u001b[0mstorage_options\u001b[0m\u001b[1;33m=\u001b[0m\u001b[0mstorage_options\u001b[0m\u001b[1;33m,\u001b[0m \u001b[0mis_text\u001b[0m\u001b[1;33m=\u001b[0m\u001b[1;32mFalse\u001b[0m\u001b[1;33m\u001b[0m\u001b[1;33m\u001b[0m\u001b[0m\n\u001b[0;32m   1072\u001b[0m     ) as handle:\n",
      "\u001b[1;32m~\\anaconda3\\lib\\site-packages\\pandas\\io\\common.py\u001b[0m in \u001b[0;36mget_handle\u001b[1;34m(path_or_buf, mode, encoding, compression, memory_map, is_text, errors, storage_options)\u001b[0m\n\u001b[0;32m    709\u001b[0m         \u001b[1;32melse\u001b[0m\u001b[1;33m:\u001b[0m\u001b[1;33m\u001b[0m\u001b[1;33m\u001b[0m\u001b[0m\n\u001b[0;32m    710\u001b[0m             \u001b[1;31m# Binary mode\u001b[0m\u001b[1;33m\u001b[0m\u001b[1;33m\u001b[0m\u001b[0m\n\u001b[1;32m--> 711\u001b[1;33m             \u001b[0mhandle\u001b[0m \u001b[1;33m=\u001b[0m \u001b[0mopen\u001b[0m\u001b[1;33m(\u001b[0m\u001b[0mhandle\u001b[0m\u001b[1;33m,\u001b[0m \u001b[0mioargs\u001b[0m\u001b[1;33m.\u001b[0m\u001b[0mmode\u001b[0m\u001b[1;33m)\u001b[0m\u001b[1;33m\u001b[0m\u001b[1;33m\u001b[0m\u001b[0m\n\u001b[0m\u001b[0;32m    712\u001b[0m         \u001b[0mhandles\u001b[0m\u001b[1;33m.\u001b[0m\u001b[0mappend\u001b[0m\u001b[1;33m(\u001b[0m\u001b[0mhandle\u001b[0m\u001b[1;33m)\u001b[0m\u001b[1;33m\u001b[0m\u001b[1;33m\u001b[0m\u001b[0m\n\u001b[0;32m    713\u001b[0m \u001b[1;33m\u001b[0m\u001b[0m\n",
      "\u001b[1;31mFileNotFoundError\u001b[0m: [Errno 2] No such file or directory: 'FIFA.xlsx'"
     ]
    }
   ],
   "source": [
    "# Creare dataframe\n",
    "tabel = pd.read_excel('FIFA.xlsx', index_col=None, na_values=['NA'])\n",
    "print(tabel)\n",
    "tabel.columns = [col.strip() for col in tabel.columns]\n",
    "print(tabel[tabel['Nationality']== 'Romania'])\n",
    "print(tabel.groupby(['Nationality']).count())\n",
    "# Valori lipsa\n",
    "print(tabel.isnull())\n",
    "print(tabel.isnull().sum())"
   ]
  },
  {
   "cell_type": "code",
   "execution_count": null,
   "id": "f93dfc74",
   "metadata": {},
   "outputs": [],
   "source": [
    "print(tabel.drop(columns=['Special', 'Preferred Foot', 'International Reputation', 'Weak Foot', 'Work Rate', 'Body Type', 'Real Face', 'Jersey Number', 'Joined', 'Loaned From', 'Contract Valid Until', 'Height', 'Weight', 'Release Clause' ]))\n",
    "tabeldrop = pd.DataFrame(tabel.drop(columns=['Special', 'Preferred Foot', 'International Reputation', 'Weak Foot', 'Work Rate', 'Body Type', 'Real Face', 'Jersey Number', 'Joined', 'Loaned From', 'Contract Valid Until', 'Height', 'Weight', 'Release Clause' ]))"
   ]
  },
  {
   "cell_type": "code",
   "execution_count": null,
   "id": "1e7bc1df",
   "metadata": {},
   "outputs": [],
   "source": [
    "# Selectam jucatorii cu 'Overall rating' mai mare de 66\n",
    "tabeldrop= tabeldrop[tabeldrop['Overall rating'] >66]\n",
    "print(tabeldrop)"
   ]
  },
  {
   "cell_type": "code",
   "execution_count": null,
   "id": "b00b982e",
   "metadata": {},
   "outputs": [],
   "source": [
    "# Valori lipsa (vedem unde avem valori lipsa)\n",
    "print(tabeldrop.isnull())\n",
    "print(tabeldrop.isnull().sum())"
   ]
  },
  {
   "cell_type": "code",
   "execution_count": null,
   "id": "748f06f3",
   "metadata": {},
   "outputs": [],
   "source": [
    "# Inlocuim valorile lipsa ale variabilei 'Club' cu 'No club'\n",
    "print(tabeldrop['Club'].fillna(value='No club', inplace=True))\n",
    "print(tabeldrop['Club'].value_counts(dropna=False))"
   ]
  },
  {
   "cell_type": "code",
   "execution_count": null,
   "id": "1b3c0b7f",
   "metadata": {},
   "outputs": [],
   "source": [
    "# Intrucat singurele campuri ramase fara valori sunt cele 3 de la variabila 'Position', eliminam randurile unde exista cel putin o variabila lipsa pentru a scapa de ele\n",
    "print(tabeldrop.dropna(how='any', axis=0))\n",
    "tabelfinal= pd.DataFrame(tabeldrop.dropna(how='any', axis=0))\n",
    "print(tabelfinal)\n",
    "print(tabelfinal['Club'].value_counts(dropna=False))\n",
    "print(tabelfinal)\n",
    "# tabelfinal este dataframe-ul curatat si aranjat cu care vom lucra mai departe"
   ]
  },
  {
   "cell_type": "code",
   "execution_count": null,
   "id": "afa88550",
   "metadata": {},
   "outputs": [],
   "source": [
    "# Cream un dataframe cu variabilele cantitative pe care vrem sa le includem in ACP\n",
    "print(tabelfinal.drop(columns=['ID', 'Name', 'Age', 'Nationality', 'Overall rating', 'Club', 'Value (M euros)', 'Wage (K euros)', 'Skill Moves', 'Position']))\n",
    "tabelACP= pd.DataFrame(tabelfinal.drop(columns=['ID','Name', 'Age', 'Nationality', 'Overall rating', 'Club', 'Value (M euros)', 'Wage (K euros)', 'Skill Moves', 'Position', 'Curve', 'SprintSpeed', 'Balance', 'Jumping', 'Aggression', 'Positioning', 'Vision', 'Penalties', 'Composure', 'Crossing', 'Volleys', 'Stamina','HeadingAccuracy', 'Strength', 'Interceptions', 'LongShots']))\n",
    "print(tabelACP)"
   ]
  },
  {
   "cell_type": "code",
   "execution_count": null,
   "id": "fc88fb51",
   "metadata": {},
   "outputs": [],
   "source": [
    "# Matrice de corelatie (o folosim sa vedem daca ACP ar da rezultate bune)\n",
    "corr = tabelACP.corr()\n",
    "print(corr)\n",
    "fig = plt.figure(figsize=(10,10))\n",
    "plt.matshow(corr, cmap = 'RdBu', fignum = fig.number)\n",
    "plt.xticks(range(len(corr.columns)), corr.columns, rotation = 'vertical')\n",
    "plt.yticks(range(len(corr.columns)), corr.columns)\n",
    "plt.show()"
   ]
  },
  {
   "cell_type": "code",
   "execution_count": null,
   "id": "b5c7e51f",
   "metadata": {},
   "outputs": [],
   "source": [
    "tabelACP1= pd.DataFrame(tabelfinal.drop(columns=['ID', 'Name', 'Nationality', 'Club', 'Value (M euros)',  'Position', 'Curve', 'SprintSpeed', 'Balance', 'Jumping', 'Aggression', 'Positioning', 'Vision', 'Penalties', 'Composure', 'Crossing', 'Volleys', 'Stamina','HeadingAccuracy', 'Strength', 'Interceptions', 'LongShots']))\n",
    "print(tabelACP1)"
   ]
  },
  {
   "cell_type": "code",
   "execution_count": null,
   "id": "2d77a000",
   "metadata": {},
   "outputs": [],
   "source": [
    "# Standardizare date\n",
    "scaler = per.MinMaxScaler(feature_range= (0,1))\n",
    "rescaleData = scaler.fit_transform(tabelACP1)\n",
    "rescaleData = pd.DataFrame(rescaleData, index = tabelACP1.index, columns = tabelACP1.columns)\n",
    "print(rescaleData)"
   ]
  },
  {
   "cell_type": "code",
   "execution_count": null,
   "id": "d5cb1879",
   "metadata": {},
   "outputs": [],
   "source": [
    "# ACP\n",
    "pca= PCA(n_components=2)\n",
    "print(pca.fit(rescaleData))\n",
    "pcaData= pca.transform(rescaleData)\n",
    "print(pcaData)"
   ]
  },
  {
   "cell_type": "code",
   "execution_count": null,
   "id": "ba5e34a2",
   "metadata": {},
   "outputs": [],
   "source": [
    "# In dataframe-ul pcaData putem observa valorile Eigenvectorilor si faptul ca PC2 e determinata pozitiv de jucatorii care au trasaturi ofensive\n",
    "# PC1 este determinata pozitiv de jucatorii care au trasaturi defensive\n",
    "pcaData= pd.DataFrame(pca.transform(rescaleData))\n",
    "print(pcaData.rename(columns= {0:'PC1', 1:'PC2'}, inplace=True))\n",
    "print(pcaData)\n",
    "print(pcaData.merge(right= tabelfinal['Name'], left_index=True, right_index=True))\n",
    "tabelplot= pd.DataFrame(pcaData.merge(right= tabelfinal['Name'], left_index=True, right_index=True))\n",
    "print(tabelplot.set_index('Name'))\n",
    "df_eigenvectots= pd.DataFrame(tabelplot.set_index('Name'))\n",
    "df_eigenvectots.to_csv('Eigenvectors.csv')"
   ]
  },
  {
   "cell_type": "code",
   "execution_count": null,
   "id": "a2dbecc0",
   "metadata": {},
   "outputs": [],
   "source": [
    "# Cream un Screeplot\n",
    "per_var= np.round(pca.explained_variance_ratio_*100, decimals=1)\n",
    "labels= ['PC' + str(x) for x in range(1, len(per_var)+1)]\n",
    "plt.bar(x= range(1,len(per_var) + 1), height= per_var, tick_label= labels)\n",
    "plt.ylabel('Percentage of Explained Variance')\n",
    "plt.xlabel('Principal Component')\n",
    "plt.title('Scree Plot')\n",
    "plt.show()"
   ]
  },
  {
   "cell_type": "code",
   "execution_count": null,
   "id": "8f0a02c5",
   "metadata": {},
   "outputs": [],
   "source": [
    "# Cream un PCA plot\n",
    "\n",
    "tabelplot.plot(kind = 'scatter', x = 'PC1', y = 'PC2')\n",
    "plt.xlabel('PC1')\n",
    "plt.ylabel('PC2')\n",
    "plt.title('PCA Plot')\n",
    "plt.show()"
   ]
  },
  {
   "cell_type": "code",
   "execution_count": null,
   "id": "f4cb7fea",
   "metadata": {},
   "outputs": [],
   "source": [
    "print(rescaleData)\n",
    "print(rescaleData.drop([8760, 8761, 8762], axis=0))\n",
    "rescaleData1= pd.DataFrame(rescaleData.drop([8760, 8761, 8762], axis=0))\n",
    "print(tabelplot)"
   ]
  },
  {
   "cell_type": "code",
   "execution_count": null,
   "id": "84209931",
   "metadata": {},
   "outputs": [],
   "source": [
    "print(rescaleData1.merge(right= tabelplot, left_index=True, right_index=True))\n",
    "df_last= pd.DataFrame(rescaleData1.merge(right= tabelplot, left_index=True, right_index=True))\n",
    "df_last.set_index('Name', inplace=True)\n",
    "print(df_last.columns)"
   ]
  },
  {
   "cell_type": "code",
   "execution_count": null,
   "id": "895edbd7",
   "metadata": {},
   "outputs": [],
   "source": [
    "# Clusterizare\n",
    "cluster= KMeans(n_clusters=5)\n",
    "df_last['cluster']= cluster.fit_predict(df_last[df_last.columns[:]])\n",
    "print(df_last['cluster'].value_counts())\n",
    "print(df_last[df_last['cluster']==0])"
   ]
  },
  {
   "cell_type": "code",
   "execution_count": null,
   "id": "6689f5d2",
   "metadata": {},
   "outputs": [],
   "source": [
    "# Distributia salariilor saptamanale\n",
    "tabelfinal['Wage (K euros)'].plot(kind = 'hist', edgecolor = 'k', figsize = (14,6))\n",
    "plt.xlabel('Weekly wage')\n",
    "plt.ylabel('Frequency')\n",
    "plt.title('Distribution of Wages')\n",
    "plt.show()"
   ]
  }
 ],
 "metadata": {
  "kernelspec": {
   "display_name": "Python 3 (ipykernel)",
   "language": "python",
   "name": "python3"
  },
  "language_info": {
   "codemirror_mode": {
    "name": "ipython",
    "version": 3
   },
   "file_extension": ".py",
   "mimetype": "text/x-python",
   "name": "python",
   "nbconvert_exporter": "python",
   "pygments_lexer": "ipython3",
   "version": "3.9.7"
  }
 },
 "nbformat": 4,
 "nbformat_minor": 5
}
